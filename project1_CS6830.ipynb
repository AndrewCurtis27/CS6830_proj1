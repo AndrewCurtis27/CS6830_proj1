{
 "cells": [
  {
   "cell_type": "code",
   "execution_count": null,
   "id": "2c51dc8c-96e4-46e6-a112-edebfff9eade",
   "metadata": {},
   "outputs": [],
   "source": [
    "import pandas as pd\n",
    "import seaborn as sns\n",
    "import matplotlib.pyplot as plt"
   ]
  },
  {
   "cell_type": "markdown",
   "id": "c72f58a5-d9f9-4d71-8ce2-94e9cff48605",
   "metadata": {},
   "source": [
    "## Read in Salary data"
   ]
  },
  {
   "cell_type": "code",
   "execution_count": null,
   "id": "fe42930c-a95b-4a6d-8230-a69f3bd6807b",
   "metadata": {},
   "outputs": [],
   "source": [
    "df1 = pd.read_csv(\"C:/Users/arist/Documents/CS6830/baseballdatabank-2022.2/baseballdatabank-2022.2/contrib/Salaries.csv\")\n",
    "df1"
   ]
  },
  {
   "cell_type": "markdown",
   "id": "83a2ad00-8914-405f-88da-a966d6af2d33",
   "metadata": {},
   "source": [
    "## Read in Batting data"
   ]
  },
  {
   "cell_type": "code",
   "execution_count": null,
   "id": "7b507f83-f5cf-4b77-9e5d-023b0610f3c0",
   "metadata": {},
   "outputs": [],
   "source": [
    "df2 = pd.read_csv(\"C:/Users/arist/Documents/CS6830/baseballdatabank-2022.2/baseballdatabank-2022.2/core/Batting.csv\")\n",
    "df2"
   ]
  },
  {
   "cell_type": "markdown",
   "id": "ffc9feee-0de2-4913-8d5c-cdbc266ebfc8",
   "metadata": {},
   "source": [
    "## Merge data on playerID"
   ]
  },
  {
   "cell_type": "code",
   "execution_count": null,
   "id": "82d106ee-5032-4a78-83b1-42e391092239",
   "metadata": {},
   "outputs": [],
   "source": [
    "df3 = pd.merge(df1, df2, on=\"playerID\")\n",
    "df3"
   ]
  },
  {
   "cell_type": "markdown",
   "id": "d4665971-25a6-461c-972c-0d9b86cce4f1",
   "metadata": {},
   "source": [
    "## limit to recent years (2012-2016 based on salary yearID)"
   ]
  },
  {
   "cell_type": "code",
   "execution_count": null,
   "id": "2a34f01a-0c34-4881-a557-9d6ffcf88aad",
   "metadata": {},
   "outputs": [],
   "source": [
    "temp = df3[df3.yearID_x > 2011]\n",
    "temp.columns"
   ]
  },
  {
   "cell_type": "markdown",
   "id": "9230dc79-9430-4386-9fc2-6e0426ad8803",
   "metadata": {},
   "source": [
    "## Limit dataset to more than 10 games played"
   ]
  },
  {
   "cell_type": "code",
   "execution_count": null,
   "id": "84c96de2-c220-4928-b150-883416505228",
   "metadata": {},
   "outputs": [],
   "source": [
    "temp = temp[temp.G > 10]"
   ]
  },
  {
   "cell_type": "markdown",
   "id": "0f7ea0c4-7905-449e-8e58-cb7d27671da1",
   "metadata": {},
   "source": [
    "## visualize salary distributions"
   ]
  },
  {
   "cell_type": "code",
   "execution_count": null,
   "id": "8e86f723-0364-4132-9bfe-2a907132f089",
   "metadata": {},
   "outputs": [],
   "source": [
    "sns.histplot(x='salary', data=temp, bins=15)"
   ]
  },
  {
   "cell_type": "markdown",
   "id": "24a02525-19b6-4d16-a71c-b6bd28a2bef0",
   "metadata": {},
   "source": [
    "## Select features for regressions"
   ]
  },
  {
   "cell_type": "code",
   "execution_count": null,
   "id": "e6b55586-7663-4475-9422-590ae8dc8b98",
   "metadata": {},
   "outputs": [],
   "source": [
    "feature_cols = ['G', 'AB', 'R', 'H', '2B', '3B', 'HR', 'RBI', 'SB', 'CS', 'BB', 'SO', 'IBB', 'HBP', 'SH', 'SF', 'GIDP']"
   ]
  },
  {
   "cell_type": "markdown",
   "id": "6e556f01-6d46-4b50-8b59-cd17121b6e5f",
   "metadata": {},
   "source": [
    "## Setup for regressions"
   ]
  },
  {
   "cell_type": "code",
   "execution_count": null,
   "id": "d12751ea-8710-4cf0-a4de-9197697cb251",
   "metadata": {},
   "outputs": [],
   "source": [
    "X = temp.loc[:, feature_cols]\n",
    "# temp[[\"salary\"]].values\n",
    "# # y = temp.loc[temp.salary]\n",
    "y = temp.salary\n",
    "print(y)\n"
   ]
  },
  {
   "cell_type": "markdown",
   "id": "4dabda37-ee88-4656-b22a-0ae0f93c6b9d",
   "metadata": {},
   "source": [
    "## Decision tree regressor"
   ]
  },
  {
   "cell_type": "code",
   "execution_count": null,
   "id": "7a8647b3-a800-4a2d-b14c-c3fcc897d65d",
   "metadata": {},
   "outputs": [],
   "source": [
    "from sklearn import tree\n",
    "clf = tree.DecisionTreeRegressor()\n",
    "clf = clf.fit(X, y)"
   ]
  },
  {
   "cell_type": "code",
   "execution_count": null,
   "id": "0733f9f3-3ecb-42e0-8517-7be5f08580e7",
   "metadata": {
    "tags": []
   },
   "outputs": [],
   "source": [
    "tree.plot_tree(clf)"
   ]
  },
  {
   "cell_type": "code",
   "execution_count": null,
   "id": "35a8aced-69e2-48c1-8d27-d2648fc52c90",
   "metadata": {},
   "outputs": [],
   "source": [
    "import graphviz\n",
    "dot_data = tree.export_graphviz(clf, out_file=None, \n",
    "                                feature_names=feature_cols,\n",
    "                                max_depth = 3,\n",
    "                                \n",
    "                                # class_names=['index','Salary'],  \n",
    "                                filled=True, rounded=True,  \n",
    "                                special_characters=True)  \n",
    "graph = graphviz.Source(dot_data)  \n",
    "graph.render(\"salary_batting\") "
   ]
  },
  {
   "cell_type": "markdown",
   "id": "f7a17b91-037e-4bf9-94eb-c1d0bfa945f4",
   "metadata": {},
   "source": [
    "## Linear regression"
   ]
  },
  {
   "cell_type": "code",
   "execution_count": null,
   "id": "f0d520c0-342a-4c7b-87eb-03762286d13b",
   "metadata": {},
   "outputs": [],
   "source": [
    "from matplotlib import pyplot\n",
    "from sklearn.linear_model import LinearRegression\n",
    "model = LinearRegression()\n",
    "model.fit(X, y)\n",
    "importance = model.coef_\n",
    "# summarize feature importance\n",
    "for i,v in enumerate(importance):\n",
    "    print('Feature: %0d, Score: %.5f' % (i,v))\n",
    "# plot feature importance\n",
    "fig, ax = plt.subplots()\n",
    "\n",
    "p1 = ax.bar([x for x in range(len(importance))], importance)\n",
    "ax.set_ylabel('Importance')\n",
    "ax.set_title('Linear regression of Salary on batting stats')\n",
    "ax.set_xticks([x for x in range(len(importance))], labels=feature_cols)\n",
    "# ax.set(label=feature_cols, ylabel='Importance')\n",
    "fig.show()"
   ]
  },
  {
   "cell_type": "code",
   "execution_count": null,
   "id": "0cc6988b-d358-46de-ba33-4aee43f4ec51",
   "metadata": {},
   "outputs": [],
   "source": [
    "# from sklearn.linear_model import LogisticRegression\n",
    "\n",
    "# model = LogisticRegression()\n",
    "# # fit the model\n",
    "# model.fit(X, y)\n",
    "# # get importance\n",
    "# importance = model.coef_[0]\n",
    "# # summarize feature importance\n",
    "# for i,v in enumerate(importance):\n",
    "#     print('Feature: %0d, Score: %.5f' % (i,v))\n",
    "# # plot feature importance\n",
    "# pyplot.bar([x for x in range(len(importance))], importance)\n",
    "# pyplot.show()"
   ]
  },
  {
   "cell_type": "markdown",
   "id": "5234a225-3f78-485d-8070-efca0127ed05",
   "metadata": {},
   "source": [
    "## Random Forest regression"
   ]
  },
  {
   "cell_type": "code",
   "execution_count": null,
   "id": "a0b40dd3-e5ed-4fbb-8466-e0ca3df58035",
   "metadata": {},
   "outputs": [],
   "source": [
    "\n",
    "from sklearn.ensemble import RandomForestRegressor\n",
    "\n",
    "# define the model\n",
    "model = RandomForestRegressor()\n",
    "# fit the model\n",
    "model.fit(X, y)\n",
    "# get importance\n",
    "importance = model.feature_importances_\n",
    "# summarize feature importance\n",
    "for i,v in enumerate(importance):\n",
    "    print('Feature: %0d, Score: %.5f' % (i,v))\n",
    "# plot feature importance\n",
    "fig, ax = plt.subplots()\n",
    "\n",
    "p1 = ax.bar([x for x in range(len(importance))], importance)\n",
    "ax.set_ylabel('Importance')\n",
    "ax.set_title('Random Forest regression of Salary on batting stats')\n",
    "ax.set_xticks([x for x in range(len(importance))], labels=feature_cols)\n",
    "# ax.set(label=feature_cols, ylabel='Importance')\n",
    "fig.show()"
   ]
  },
  {
   "cell_type": "code",
   "execution_count": null,
   "id": "174e33a0-60f9-4692-83b1-fb4269e7403f",
   "metadata": {},
   "outputs": [],
   "source": [
    "people = pd.read_csv(\"C:/Users/arist/Documents/CS6830/baseballdatabank-2022.2/baseballdatabank-2022.2/core/BattingPost.csv\")\n",
    "people.columns"
   ]
  },
  {
   "cell_type": "code",
   "execution_count": null,
   "id": "462110d3-0702-479c-8918-8eb6277a7835",
   "metadata": {},
   "outputs": [],
   "source": [
    "from matplotlib import pyplot as plt\n",
    "import seaborn as sns"
   ]
  },
  {
   "cell_type": "code",
   "execution_count": null,
   "id": "2af3f9c1-f066-4f0c-bd64-7fc61d1d96c5",
   "metadata": {},
   "outputs": [],
   "source": [
    "temp[temp.isna().any(axis=1)]\n",
    "temp = temp.dropna()"
   ]
  },
  {
   "cell_type": "markdown",
   "id": "f86ce6a3-fe85-4aef-9bc8-18d1e9c8a9cf",
   "metadata": {},
   "source": [
    "## Scatterplot distribution of Salary vs. RBI's"
   ]
  },
  {
   "cell_type": "code",
   "execution_count": null,
   "id": "b89a2aa6-4eac-4ef5-b953-2ec5a4443a24",
   "metadata": {},
   "outputs": [],
   "source": [
    "sns.scatterplot(x='RBI', y='salary', data=temp.sample(frac=0.1), s=4)"
   ]
  },
  {
   "cell_type": "markdown",
   "id": "2b431cc3-b030-407f-909c-f00fb7588515",
   "metadata": {},
   "source": [
    "## Lineplot distribution of Salary vs. RBI's"
   ]
  },
  {
   "cell_type": "code",
   "execution_count": null,
   "id": "160c8da6-a4f4-456f-99ce-eab88b431736",
   "metadata": {},
   "outputs": [],
   "source": [
    "sns.lineplot(x='RBI', y='salary', data=temp)"
   ]
  },
  {
   "cell_type": "markdown",
   "id": "799adf2b-e62a-4aa7-b965-b4426f3e0a67",
   "metadata": {},
   "source": [
    "## Lineplot distribution of Salary vs. Games played"
   ]
  },
  {
   "cell_type": "code",
   "execution_count": null,
   "id": "6edc207e-6788-4b54-a414-363b46f411f6",
   "metadata": {},
   "outputs": [],
   "source": [
    "sns.lineplot(x='G', y='salary', data=temp)"
   ]
  },
  {
   "cell_type": "markdown",
   "id": "f0cf1d15-1588-4d70-b2e7-f2442f491511",
   "metadata": {},
   "source": [
    "## Lineplot distribution of Salary vs. Hits"
   ]
  },
  {
   "cell_type": "code",
   "execution_count": null,
   "id": "b8fe86b6-06c4-42d3-a5f4-166813f182e5",
   "metadata": {},
   "outputs": [],
   "source": [
    "sns.lineplot(x='H', y='salary', data=temp)"
   ]
  },
  {
   "cell_type": "markdown",
   "id": "58d22375-16e3-40b9-92f2-50c35d735a3a",
   "metadata": {},
   "source": [
    "## limit data frame to players with only more than 10 RBI's in a season"
   ]
  },
  {
   "cell_type": "code",
   "execution_count": null,
   "id": "69a3bd9d-5d74-4532-ac26-1c3af7b54b0e",
   "metadata": {},
   "outputs": [],
   "source": [
    "temp = temp[temp.RBI > 10]"
   ]
  },
  {
   "cell_type": "markdown",
   "id": "1146ec9c-83a0-45ee-9225-36d97bb47eb3",
   "metadata": {},
   "source": [
    "## Histogram of RBI's after limiting"
   ]
  },
  {
   "cell_type": "code",
   "execution_count": null,
   "id": "a2042729-6bb5-42b2-a726-e204cff007df",
   "metadata": {},
   "outputs": [],
   "source": [
    "import matplotlib as mpl\n",
    "\n",
    "sns.set_theme(style=\"ticks\")\n",
    "\n",
    "f, ax = plt.subplots(figsize=(7, 5))\n",
    "sns.despine(f)\n",
    "\n",
    "sns.histplot(\n",
    "    temp,\n",
    "    x=\"RBI\",\n",
    "    multiple=\"stack\",\n",
    "    palette=\"light:m_r\",\n",
    "    edgecolor=\".3\",\n",
    "    linewidth=.5,\n",
    ")\n",
    "ax.xaxis.set_major_formatter(mpl.ticker.ScalarFormatter())\n",
    "# ax.set_xticks([500, 1000, 2000, 5000, 10000])"
   ]
  },
  {
   "cell_type": "markdown",
   "id": "fc75853d-5f48-4f00-85dd-53d569cb449a",
   "metadata": {},
   "source": [
    "## Lineplot of salary vs RBI's after limiting"
   ]
  },
  {
   "cell_type": "code",
   "execution_count": null,
   "id": "457cbad6-ad97-4990-8ff7-46a27b71d555",
   "metadata": {},
   "outputs": [],
   "source": [
    "sns.lineplot(x='RBI', y='salary', data=temp)"
   ]
  },
  {
   "cell_type": "markdown",
   "id": "79cb0072-4a75-4dde-8cc5-b5605b60422a",
   "metadata": {},
   "source": [
    "## Linear Regression of Salary on RBI's, for prediction of salary"
   ]
  },
  {
   "cell_type": "code",
   "execution_count": null,
   "id": "744ce18d-e968-4fe8-ad37-221cd93a775f",
   "metadata": {},
   "outputs": [],
   "source": [
    "feature_name = \"RBI\"\n",
    "target_name = \"salary\"\n",
    "data, target = temp[[feature_name]], temp[target_name]"
   ]
  },
  {
   "cell_type": "code",
   "execution_count": null,
   "id": "56ea44d4-18f7-44b1-9fb8-2558aec64696",
   "metadata": {},
   "outputs": [],
   "source": [
    "from sklearn.linear_model import LinearRegression\n",
    "\n",
    "linear_regression = LinearRegression()\n",
    "linear_regression.fit(data, target)"
   ]
  },
  {
   "cell_type": "code",
   "execution_count": null,
   "id": "9e0241fa-3583-445a-8f79-9e72c87534a1",
   "metadata": {},
   "outputs": [],
   "source": [
    "RBI_salary_slope = linear_regression.coef_[0]\n",
    "RBI_salary_slope"
   ]
  },
  {
   "cell_type": "code",
   "execution_count": null,
   "id": "c85400a0-c537-4161-b748-e9cc7ce2effa",
   "metadata": {},
   "outputs": [],
   "source": [
    "intercept = linear_regression.intercept_\n",
    "intercept"
   ]
  },
  {
   "cell_type": "code",
   "execution_count": null,
   "id": "681afbe2-41ca-4aa7-8395-dc1ec77bd768",
   "metadata": {},
   "outputs": [],
   "source": [
    "import numpy as np\n",
    "\n",
    "RBI_range = np.linspace(data.min(), data.max(), num=300)\n",
    "predicted_salary = (\n",
    "    RBI_salary_slope * RBI_range + intercept)"
   ]
  },
  {
   "cell_type": "code",
   "execution_count": null,
   "id": "dc149003-36bc-4243-934d-ccb1986f6515",
   "metadata": {},
   "outputs": [],
   "source": [
    "# sns.scatterplot(x=data[feature_name], y=target, color=\"black\", alpha=0.5)\n",
    "sns.scatterplot(x='RBI', y='salary', data=temp.sample(frac=0.1), s=4, alpha=0.5)\n",
    "plt.plot(RBI_range, predicted_salary)\n",
    "_ = plt.title(\"Linear Regression of salary by RBI\")"
   ]
  },
  {
   "cell_type": "markdown",
   "id": "1211d29f-c8f3-44a1-a2da-64e7cc0b235c",
   "metadata": {},
   "source": [
    "## linear regression of salary on hits"
   ]
  },
  {
   "cell_type": "code",
   "execution_count": null,
   "id": "be8287e0-eba5-4628-8f72-22862703288a",
   "metadata": {},
   "outputs": [],
   "source": [
    "feature_name = \"H\"\n",
    "target_name = \"salary\"\n",
    "data, target = temp[[feature_name]], temp[target_name]\n",
    "linear_regression = LinearRegression()\n",
    "linear_regression.fit(data, target)\n",
    "slope = linear_regression.coef_[0]\n",
    "intercept = linear_regression.intercept_\n",
    "_range = np.linspace(data.min(), data.max(), num=300)\n",
    "predicted_salary = (slope * _range + intercept)\n",
    "sns.scatterplot(x='H', y='salary', data=temp.sample(frac=0.1), s=4, alpha=0.5)\n",
    "plt.plot(_range, predicted_salary)\n",
    "_ = plt.title(\"Linear Regression of salary by H\")"
   ]
  },
  {
   "cell_type": "markdown",
   "id": "fb35f3fc-a2cb-4ac1-9316-977112ede242",
   "metadata": {},
   "source": [
    "## linear regression of salary on Homeruns"
   ]
  },
  {
   "cell_type": "code",
   "execution_count": null,
   "id": "c2279929-7e82-48a3-b159-690988f68a5d",
   "metadata": {},
   "outputs": [],
   "source": [
    "feature_name = \"HR\"\n",
    "target_name = \"salary\"\n",
    "data, target = temp[[feature_name]], temp[target_name]\n",
    "linear_regression = LinearRegression()\n",
    "linear_regression.fit(data, target)\n",
    "slope = linear_regression.coef_[0]\n",
    "intercept = linear_regression.intercept_\n",
    "_range = np.linspace(data.min(), data.max(), num=300)\n",
    "predicted_salary = (slope * _range + intercept)\n",
    "sns.scatterplot(x='HR', y='salary', data=temp.sample(frac=0.1), s=4, alpha=0.5)\n",
    "plt.plot(_range, predicted_salary)\n",
    "_ = plt.title(\"Linear Regression of salary by HR\")"
   ]
  },
  {
   "cell_type": "markdown",
   "id": "555cf8ee-5728-4263-bbe7-face64b3d774",
   "metadata": {},
   "source": [
    "## linear regression of salary on walks"
   ]
  },
  {
   "cell_type": "code",
   "execution_count": null,
   "id": "df6e2d6c-f32c-4977-a7b3-81236668edbf",
   "metadata": {},
   "outputs": [],
   "source": [
    "feature_name = \"IBB\"\n",
    "target_name = \"salary\"\n",
    "data, target = temp[[feature_name]], temp[target_name]\n",
    "linear_regression = LinearRegression()\n",
    "linear_regression.fit(data, target)\n",
    "slope = linear_regression.coef_[0]\n",
    "intercept = linear_regression.intercept_\n",
    "_range = np.linspace(data.min(), data.max(), num=300)\n",
    "predicted_salary = (slope * _range + intercept)\n",
    "sns.scatterplot(x='IBB', y='salary', data=temp.sample(frac=0.1), s=4, alpha=0.5)\n",
    "plt.plot(_range, predicted_salary)\n",
    "_ = plt.title(\"Linear Regression of salary by IBB\")"
   ]
  },
  {
   "cell_type": "markdown",
   "id": "bfac8b4b-9f7f-4c97-8749-a56f1dad1d92",
   "metadata": {},
   "source": [
    "## Scatterplot matrix of batting stats and salary, for viewing correlations with salary and possible covariance"
   ]
  },
  {
   "cell_type": "code",
   "execution_count": null,
   "id": "0692baaf-5ad4-4473-bd67-8d49e84bb229",
   "metadata": {},
   "outputs": [],
   "source": [
    "batting_correlations = temp[['salary', 'H', 'RBI', 'IBB', 'HR', 'G']]\n",
    "g = sns.pairplot(batting_correlations.sample(frac=0.1), plot_kws={'s': 5})\n",
    "g.fig.suptitle(\"Scatterplot matrix of salary and batting stats\", y=1, fontsize=20)"
   ]
  },
  {
   "cell_type": "code",
   "execution_count": null,
   "id": "6ee3d2be-9d01-44b4-a629-57c6d64b0b19",
   "metadata": {},
   "outputs": [],
   "source": []
  }
 ],
 "metadata": {
  "kernelspec": {
   "display_name": "Python 3 (ipykernel)",
   "language": "python",
   "name": "python3"
  },
  "language_info": {
   "codemirror_mode": {
    "name": "ipython",
    "version": 3
   },
   "file_extension": ".py",
   "mimetype": "text/x-python",
   "name": "python",
   "nbconvert_exporter": "python",
   "pygments_lexer": "ipython3",
   "version": "3.9.12"
  }
 },
 "nbformat": 4,
 "nbformat_minor": 5
}
